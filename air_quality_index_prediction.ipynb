{
 "cells": [
  {
   "cell_type": "markdown",
   "metadata": {},
   "source": [
    "Problem Statement\n",
    "\n",
    "\n",
    "Air pollution is a severe challenge in urban areas, impacting public health and the environment. Accurately predicting air quality levels can help city officials take timely actions to reduce emissions or warn the public. Traditional methods of monitoring air quality are limited by the number of sensors and real-time reporting. AI models can fill these gaps by using available sensor data combined with weather and traffic information."
   ]
  },
  {
   "cell_type": "code",
   "execution_count": 1,
   "metadata": {},
   "outputs": [
    {
     "name": "stderr",
     "output_type": "stream",
     "text": [
      "c:\\Users\\Dell\\AppData\\Local\\Programs\\Python\\Python312\\Lib\\site-packages\\tqdm\\auto.py:21: TqdmWarning: IProgress not found. Please update jupyter and ipywidgets. See https://ipywidgets.readthedocs.io/en/stable/user_install.html\n",
      "  from .autonotebook import tqdm as notebook_tqdm\n"
     ]
    },
    {
     "name": "stdout",
     "output_type": "stream",
     "text": [
      "Path to dataset files: C:\\Users\\Dell\\.cache\\kagglehub\\datasets\\anuragbantu\\new-delhi-air-quality\\versions\\2\n"
     ]
    }
   ],
   "source": [
    "import kagglehub\n",
    "\n",
    "# Download latest version\n",
    "path = kagglehub.dataset_download(\"anuragbantu/new-delhi-air-quality\")\n",
    "\n",
    "print(\"Path to dataset files:\", path)"
   ]
  },
  {
   "cell_type": "code",
   "execution_count": 2,
   "metadata": {},
   "outputs": [
    {
     "name": "stdout",
     "output_type": "stream",
     "text": [
      "   Unnamed: 0   AQI         CO       datetime       no2         o3       pm10  \\\n",
      "0           0  30.2  198.60268  2022-10-21:18  0.046857  55.789948  10.486722   \n",
      "1           1  28.2  197.60132  2022-10-21:19  0.046456  54.931640  10.719325   \n",
      "2           2  26.6  198.60268  2022-10-21:20  0.046857  54.645540  11.155578   \n",
      "3           3  25.0  201.94054  2022-10-21:21  0.048196  55.074690  11.116206   \n",
      "4           4  26.0  205.27840  2022-10-21:22  0.048865  55.789948  10.405250   \n",
      "\n",
      "       pm25       so2      timestamp_local        timestamp_utc          ts  \n",
      "0  5.637410  0.387430  2022-10-21T23:00:00  2022-10-21T18:00:00  1666375200  \n",
      "1  4.618169  0.409782  2022-10-22T00:00:00  2022-10-21T19:00:00  1666378800  \n",
      "2  3.520902  0.402331  2022-10-22T01:00:00  2022-10-21T20:00:00  1666382400  \n",
      "3  2.225919  0.376254  2022-10-22T02:00:00  2022-10-21T21:00:00  1666386000  \n",
      "4  1.979471  0.339001  2022-10-22T03:00:00  2022-10-21T22:00:00  1666389600  \n"
     ]
    }
   ],
   "source": [
    "import pandas as pd\n",
    "import numpy as np\n",
    "from sklearn.linear_model import LinearRegression\n",
    "from sklearn.preprocessing import OneHotEncoder\n",
    "df = pd.read_csv(\"NewDelhi_Air_quality.csv\")\n",
    "print(df.head())"
   ]
  },
  {
   "cell_type": "code",
   "execution_count": 3,
   "metadata": {},
   "outputs": [
    {
     "name": "stdout",
     "output_type": "stream",
     "text": [
      "       Unnamed: 0        AQI          CO        no2         o3       pm10  \\\n",
      "count    72.00000  72.000000   72.000000  72.000000  72.000000  72.000000   \n",
      "mean     35.50000  26.180556  200.095443   0.041996  56.571762   9.115038   \n",
      "std      20.92845   3.054650    4.515537   0.010940   6.431549   1.531785   \n",
      "min       0.00000  19.000000  191.926960   0.015563  41.484833   6.686746   \n",
      "25%      17.75000  25.000000  197.434427   0.037988  53.644180   7.864763   \n",
      "50%      35.50000  27.000000  200.271600   0.045518  57.220460   8.914176   \n",
      "75%      53.25000  28.000000  203.609470   0.050204  60.081482  10.274836   \n",
      "max      71.00000  32.000000  208.616260   0.060914  68.664550  12.845977   \n",
      "\n",
      "            pm25        so2            ts  \n",
      "count  72.000000  72.000000  7.200000e+01  \n",
      "mean    2.295406   0.363423  1.666503e+09  \n",
      "std     0.656507   0.044664  7.534242e+04  \n",
      "min     1.633373   0.283122  1.666375e+09  \n",
      "25%     1.828729   0.320375  1.666439e+09  \n",
      "50%     2.201811   0.372529  1.666503e+09  \n",
      "75%     2.522210   0.395812  1.666567e+09  \n",
      "max     5.637410   0.454485  1.666631e+09  \n"
     ]
    }
   ],
   "source": [
    "print(df.describe())"
   ]
  },
  {
   "cell_type": "code",
   "execution_count": 4,
   "metadata": {},
   "outputs": [
    {
     "name": "stdout",
     "output_type": "stream",
     "text": [
      "<class 'pandas.core.frame.DataFrame'>\n",
      "RangeIndex: 72 entries, 0 to 71\n",
      "Data columns (total 12 columns):\n",
      " #   Column           Non-Null Count  Dtype  \n",
      "---  ------           --------------  -----  \n",
      " 0   Unnamed: 0       72 non-null     int64  \n",
      " 1   AQI              72 non-null     float64\n",
      " 2   CO               72 non-null     float64\n",
      " 3   datetime         72 non-null     object \n",
      " 4   no2              72 non-null     float64\n",
      " 5   o3               72 non-null     float64\n",
      " 6   pm10             72 non-null     float64\n",
      " 7   pm25             72 non-null     float64\n",
      " 8   so2              72 non-null     float64\n",
      " 9   timestamp_local  72 non-null     object \n",
      " 10  timestamp_utc    72 non-null     object \n",
      " 11  ts               72 non-null     int64  \n",
      "dtypes: float64(7), int64(2), object(3)\n",
      "memory usage: 6.9+ KB\n",
      "None\n"
     ]
    }
   ],
   "source": [
    "# Check for missing values\n",
    "print(df.info())"
   ]
  },
  {
   "cell_type": "code",
   "execution_count": 5,
   "metadata": {},
   "outputs": [
    {
     "name": "stdout",
     "output_type": "stream",
     "text": [
      "Unnamed: 0         0\n",
      "AQI                0\n",
      "CO                 0\n",
      "datetime           0\n",
      "no2                0\n",
      "o3                 0\n",
      "pm10               0\n",
      "pm25               0\n",
      "so2                0\n",
      "timestamp_local    0\n",
      "timestamp_utc      0\n",
      "ts                 0\n",
      "dtype: int64\n"
     ]
    }
   ],
   "source": [
    "#checking for null or missing values\n",
    "print(df.isnull().sum())"
   ]
  },
  {
   "cell_type": "code",
   "execution_count": 6,
   "metadata": {},
   "outputs": [],
   "source": [
    "#handling categorical data\n",
    "data = pd.get_dummies(df, columns=[\"CO\"])\n"
   ]
  },
  {
   "cell_type": "code",
   "execution_count": 7,
   "metadata": {},
   "outputs": [
    {
     "name": "stdout",
     "output_type": "stream",
     "text": [
      "Index(['Unnamed: 0', 'AQI', 'CO', 'datetime', 'no2', 'o3', 'pm10', 'pm25',\n",
      "       'so2', 'timestamp_local', 'timestamp_utc', 'ts'],\n",
      "      dtype='object')\n"
     ]
    }
   ],
   "source": [
    "print(df.columns)"
   ]
  },
  {
   "cell_type": "code",
   "execution_count": 8,
   "metadata": {},
   "outputs": [
    {
     "name": "stdout",
     "output_type": "stream",
     "text": [
      "    AQI         CO       no2         o3       pm10      pm25       so2\n",
      "0  30.2  198.60268  0.046857  55.789948  10.486722  5.637410  0.387430\n",
      "1  28.2  197.60132  0.046456  54.931640  10.719325  4.618169  0.409782\n",
      "2  26.6  198.60268  0.046857  54.645540  11.155578  3.520902  0.402331\n",
      "3  25.0  201.94054  0.048196  55.074690  11.116206  2.225919  0.376254\n",
      "4  26.0  205.27840  0.048865  55.789948  10.405250  1.979471  0.339001\n"
     ]
    }
   ],
   "source": [
    "# List of columns to be removed\n",
    "columns_to_drop = [\"Unnamed: 0\", \"datetime\",\"timestamp_local\",\"timestamp_utc\", \"ts\"]\n",
    "df = df.drop(columns_to_drop, axis=1, errors=\"ignore\") #errors=\"ignore\" will not raise an error if the column is not present\n",
    "print(df.head())"
   ]
  },
  {
   "cell_type": "code",
   "execution_count": 9,
   "metadata": {},
   "outputs": [],
   "source": [
    "X = df.drop(\"AQI\", axis=1)  # Replacing 'AQI' with the exact target column name\n",
    "y = df[\"AQI\"] # target column"
   ]
  },
  {
   "cell_type": "code",
   "execution_count": 10,
   "metadata": {},
   "outputs": [
    {
     "name": "stdout",
     "output_type": "stream",
     "text": [
      "     CO       no2        o3      pm10      pm25       so2\n",
      "0  0.40  0.690037  0.526316  0.616956  1.000000  0.608696\n",
      "1  0.34  0.681181  0.494737  0.654721  0.745447  0.739130\n",
      "2  0.40  0.690037  0.484211  0.725550  0.471407  0.695652\n",
      "3  0.60  0.719557  0.500000  0.719158  0.147987  0.543478\n",
      "4  0.80  0.734317  0.526316  0.603729  0.086437  0.326087\n"
     ]
    }
   ],
   "source": [
    "from sklearn.preprocessing import MinMaxScaler\n",
    "\n",
    "scaler = MinMaxScaler()\n",
    "X = pd.DataFrame(scaler.fit_transform(X), columns=X.columns)\n",
    "print(X.head())"
   ]
  },
  {
   "cell_type": "code",
   "execution_count": 24,
   "metadata": {},
   "outputs": [
    {
     "name": "stdout",
     "output_type": "stream",
     "text": [
      "Training set size: (57, 6)\n",
      "Testing set size: (15, 6)\n"
     ]
    },
    {
     "data": {
      "text/html": [
       "<div>\n",
       "<style scoped>\n",
       "    .dataframe tbody tr th:only-of-type {\n",
       "        vertical-align: middle;\n",
       "    }\n",
       "\n",
       "    .dataframe tbody tr th {\n",
       "        vertical-align: top;\n",
       "    }\n",
       "\n",
       "    .dataframe thead th {\n",
       "        text-align: right;\n",
       "    }\n",
       "</style>\n",
       "<table border=\"1\" class=\"dataframe\">\n",
       "  <thead>\n",
       "    <tr style=\"text-align: right;\">\n",
       "      <th></th>\n",
       "      <th>CO</th>\n",
       "      <th>no2</th>\n",
       "      <th>o3</th>\n",
       "      <th>pm10</th>\n",
       "      <th>pm25</th>\n",
       "      <th>so2</th>\n",
       "    </tr>\n",
       "  </thead>\n",
       "  <tbody>\n",
       "    <tr>\n",
       "      <th>22</th>\n",
       "      <td>0.499999</td>\n",
       "      <td>0.822878</td>\n",
       "      <td>0.605263</td>\n",
       "      <td>0.412584</td>\n",
       "      <td>0.024820</td>\n",
       "      <td>0.217391</td>\n",
       "    </tr>\n",
       "    <tr>\n",
       "      <th>56</th>\n",
       "      <td>0.400000</td>\n",
       "      <td>0.660517</td>\n",
       "      <td>0.473684</td>\n",
       "      <td>0.329890</td>\n",
       "      <td>0.149012</td>\n",
       "      <td>0.695652</td>\n",
       "    </tr>\n",
       "    <tr>\n",
       "      <th>49</th>\n",
       "      <td>0.400000</td>\n",
       "      <td>0.645756</td>\n",
       "      <td>0.631579</td>\n",
       "      <td>0.219945</td>\n",
       "      <td>0.171552</td>\n",
       "      <td>0.673913</td>\n",
       "    </tr>\n",
       "    <tr>\n",
       "      <th>33</th>\n",
       "      <td>1.000000</td>\n",
       "      <td>0.881919</td>\n",
       "      <td>0.894737</td>\n",
       "      <td>0.317145</td>\n",
       "      <td>0.047264</td>\n",
       "      <td>0.217391</td>\n",
       "    </tr>\n",
       "    <tr>\n",
       "      <th>39</th>\n",
       "      <td>0.400000</td>\n",
       "      <td>0.180812</td>\n",
       "      <td>0.447368</td>\n",
       "      <td>0.023955</td>\n",
       "      <td>0.146346</td>\n",
       "      <td>0.478261</td>\n",
       "    </tr>\n",
       "  </tbody>\n",
       "</table>\n",
       "</div>"
      ],
      "text/plain": [
       "          CO       no2        o3      pm10      pm25       so2\n",
       "22  0.499999  0.822878  0.605263  0.412584  0.024820  0.217391\n",
       "56  0.400000  0.660517  0.473684  0.329890  0.149012  0.695652\n",
       "49  0.400000  0.645756  0.631579  0.219945  0.171552  0.673913\n",
       "33  1.000000  0.881919  0.894737  0.317145  0.047264  0.217391\n",
       "39  0.400000  0.180812  0.447368  0.023955  0.146346  0.478261"
      ]
     },
     "execution_count": 24,
     "metadata": {},
     "output_type": "execute_result"
    }
   ],
   "source": [
    "from sklearn.model_selection import train_test_split\n",
    "\n",
    "X_train, X_test, y_train, y_test = train_test_split(X, y, test_size=0.2, random_state=42)\n",
    "\n",
    "print(\"Training set size:\", X_train.shape)\n",
    "print(\"Testing set size:\", X_test.shape)\n",
    "X_train.head()  "
   ]
  },
  {
   "cell_type": "code",
   "execution_count": 25,
   "metadata": {},
   "outputs": [
    {
     "data": {
      "text/plain": [
       "22    27.0\n",
       "56    25.0\n",
       "49    27.0\n",
       "33    30.0\n",
       "39    25.0\n",
       "Name: AQI, dtype: float64"
      ]
     },
     "execution_count": 25,
     "metadata": {},
     "output_type": "execute_result"
    }
   ],
   "source": [
    "y_train.head()"
   ]
  },
  {
   "cell_type": "code",
   "execution_count": 26,
   "metadata": {},
   "outputs": [
    {
     "name": "stdout",
     "output_type": "stream",
     "text": [
      "Model training completed.\n"
     ]
    }
   ],
   "source": [
    "#regression model\n",
    "model = LinearRegression()\n",
    "\n",
    "model.fit(X_train, y_train)\n",
    "\n",
    "print(\"Model training completed.\")\n"
   ]
  },
  {
   "cell_type": "code",
   "execution_count": 27,
   "metadata": {},
   "outputs": [
    {
     "name": "stdout",
     "output_type": "stream",
     "text": [
      "Coefficients: [ 0.05084755  0.62753291 12.53274327 -0.64655344  5.49479931 -1.87506081]\n",
      "Intercept: 19.04499251447102\n"
     ]
    }
   ],
   "source": [
    "print(\"Coefficients:\", model.coef_)\n",
    "print(\"Intercept:\", model.intercept_)\n"
   ]
  },
  {
   "cell_type": "code",
   "execution_count": 28,
   "metadata": {},
   "outputs": [
    {
     "name": "stdout",
     "output_type": "stream",
     "text": [
      "Mean Squared Error: 0.10681232269620358\n",
      "R2 Score: 0.9877718216476138\n"
     ]
    }
   ],
   "source": [
    "from sklearn.metrics import mean_squared_error, r2_score\n",
    "\n",
    "y_pred = model.predict(X_test)\n",
    "\n",
    "mse = mean_squared_error(y_test, y_pred)\n",
    "r2 = r2_score(y_test, y_pred)\n",
    "\n",
    "print(f\"Mean Squared Error: {mse}\")\n",
    "print(f\"R2 Score: {r2}\")\n"
   ]
  },
  {
   "cell_type": "code",
   "execution_count": 29,
   "metadata": {},
   "outputs": [
    {
     "data": {
      "image/png": "[encoded data removed]",
      "text/plain": [
       "<Figure size 800x600 with 1 Axes>"
      ]
     },
     "metadata": {},
     "output_type": "display_data"
    }
   ],
   "source": [
    "import matplotlib.pyplot as plt\n",
    "\n",
    "actual_aqi = y  # actual AQI values\n",
    "predicted_aqi = model.predict(X)  # Predicted AQI values\n",
    "\n",
    "# scatter plot \n",
    "plt.figure(figsize=(8, 6))\n",
    "plt.scatter(actual_aqi, predicted_aqi, alpha=0.6, color='blue', label='Data Points')\n",
    "plt.plot([actual_aqi.min(), actual_aqi.max()], [actual_aqi.min(), actual_aqi.max()], 'r--', label='Perfect Prediction')\n",
    "plt.xlabel('Actual AQI')\n",
    "plt.ylabel('Predicted AQI')\n",
    "plt.title('Scatter Plot of Actual vs Predicted AQI')\n",
    "plt.legend()\n",
    "plt.show()\n",
    "\n"
   ]
  },
  {
   "cell_type": "code",
   "execution_count": 35,
   "metadata": {},
   "outputs": [
    {
     "data": {
      "text/plain": [
       "['air_quality_index_prediction.pkl']"
      ]
     },
     "execution_count": 35,
     "metadata": {},
     "output_type": "execute_result"
    }
   ],
   "source": [
    "import joblib\n",
    "\n",
    "# Save the trained model\n",
    "joblib.dump(model, \"air_quality_index_prediction.pkl\")\n"
   ]
  },
  {
   "cell_type": "code",
   "execution_count": 41,
   "metadata": {},
   "outputs": [
    {
     "name": "stdout",
     "output_type": "stream",
     "text": [
      "Enter the following parameters:\n",
      "[[0.41 0.02 0.82 0.21 0.49 0.6 ]]\n",
      "\n",
      "Prediction Results:\n",
      "Predicted AQI: [30.7868791]\n"
     ]
    },
    {
     "name": "stderr",
     "output_type": "stream",
     "text": [
      "c:\\Users\\Dell\\AppData\\Local\\Programs\\Python\\Python312\\Lib\\site-packages\\sklearn\\utils\\validation.py:2739: UserWarning: X does not have valid feature names, but LinearRegression was fitted with feature names\n",
      "  warnings.warn(\n"
     ]
    }
   ],
   "source": [
    "import numpy as np\n",
    "from sklearn.preprocessing import MinMaxScaler\n",
    "import joblib\n",
    "\n",
    "# Load the trained model and scalers\n",
    "model = joblib.load(\"air_quality_index_prediction.pkl\")  # Adjust the path if needed\n",
    "\n",
    "# # Function to convert ppb to ppm\n",
    "# def ppb_to_ppm(value_in_ppb):\n",
    "#     return value_in_ppb / 1000  # 1 ppm = 1000 ppb\n",
    "\n",
    "scaler = MinMaxScaler()\n",
    "\n",
    "# Function to get user input and predict AQI\n",
    "def predict_aqi():\n",
    "    print(\"Enter the following parameters:\")\n",
    "    pm10 = float(input(\"PM10 (e.g., µg/m³, enter as is): \"))  # PM10 is typically given in µg/m³\n",
    "    pm2_5 = float(input(\"PM2.5 (e.g., µg/m³, enter as is): \"))  # PM2.5 is typically given in µg/m³\n",
    "    no2 = float(input(\"NO2 : \"))\n",
    "    so2 = float(input(\"SO2 : \"))\n",
    "    co = float(input(\"CO : \"))\n",
    "    o3 = float(input(\"O3 : \"))\n",
    "\n",
    "    # Convert ppb inputs to ppm\n",
    "    # no2 = ppb_to_ppm(no2_ppb)\n",
    "    # so2 = ppb_to_ppm(so2_ppb)\n",
    "    # co = ppb_to_ppm(co_ppb)\n",
    "    # o3 = ppb_to_ppm(o3_ppb)\n",
    "\n",
    "    # Create a raw input array\n",
    "    raw_input = np.array([[pm10, pm2_5, no2, so2, co, o3]])\n",
    "    print(raw_input)\n",
    "\n",
    "    # Normalize the input using the scaler\n",
    "    # normalized_input = scaler.fit_transform(raw_input)\n",
    "    # print(normalized_input)\n",
    "\n",
    "    # Predict the normalized AQI\n",
    "    predicted_aqi = model.predict(raw_input)\n",
    "\n",
    "    print(\"\\nPrediction Results:\")\n",
    "    print(f\"Predicted AQI: {predicted_aqi}\")\n",
    "\n",
    "# Call the function to predict AQI\n",
    "predict_aqi()\n"
   ]
  },
  {
   "cell_type": "code",
   "execution_count": null,
   "metadata": {},
   "outputs": [],
   "source": []
  }
 ],
 "metadata": {
  "kernelspec": {
   "display_name": "Python 3",
   "language": "python",
   "name": "python3"
  },
  "language_info": {
   "codemirror_mode": {
    "name": "ipython",
    "version": 3
   },
   "file_extension": ".py",
   "mimetype": "text/x-python",
   "name": "python",
   "nbconvert_exporter": "python",
   "pygments_lexer": "ipython3",
   "version": "3.12.8"
  }
 },
 "nbformat": 4,
 "nbformat_minor": 2
}
